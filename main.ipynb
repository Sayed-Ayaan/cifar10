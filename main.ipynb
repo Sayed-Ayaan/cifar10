{
 "cells": [
  {
   "cell_type": "code",
   "execution_count": 7,
   "metadata": {},
   "outputs": [],
   "source": [
    "import torch\n",
    "import torchvision\n",
    "import torchvision.transforms as transforms\n",
    "import torch.nn as nn\n",
    "import torch.optim as optim\n",
    "import torch.nn.functional as F\n"
   ]
  },
  {
   "cell_type": "code",
   "execution_count": 8,
   "metadata": {},
   "outputs": [
    {
     "name": "stdout",
     "output_type": "stream",
     "text": [
      "Using device: cuda\n"
     ]
    }
   ],
   "source": [
    "transform = transforms.Compose([\n",
    "    transforms.RandomHorizontalFlip(),  \n",
    "    transforms.RandomRotation(10),  \n",
    "    transforms.RandomCrop(32, padding=4),  \n",
    "    transforms.ToTensor(), \n",
    "    transforms.Normalize((0.5, 0.5, 0.5), (0.5, 0.5, 0.5))  \n",
    "])\n",
    "\n",
    "transform_test = transforms.Compose([\n",
    "    transforms.ToTensor(),\n",
    "    transforms.Normalize((0.5, 0.5, 0.5), (0.5, 0.5, 0.5))\n",
    "])\n",
    "\n",
    "device = torch.device(\"cuda\" if torch.cuda.is_available() else \"cpu\")\n",
    "print(f\"Using device: {device}\")"
   ]
  },
  {
   "cell_type": "code",
   "execution_count": 9,
   "metadata": {},
   "outputs": [
    {
     "name": "stdout",
     "output_type": "stream",
     "text": [
      "Files already downloaded and verified\n",
      "Files already downloaded and verified\n"
     ]
    }
   ],
   "source": [
    "trainset = torchvision.datasets.CIFAR10(root='./data', train=True, download=True, transform=transform)\n",
    "trainloader = torch.utils.data.DataLoader(trainset, batch_size=32, shuffle=True)\n",
    "testset = torchvision.datasets.CIFAR10(root='./data', train=False, download=True, transform=transform_test)\n",
    "testloader = torch.utils.data.DataLoader(testset, batch_size=32, shuffle=False)\n"
   ]
  },
  {
   "cell_type": "code",
   "execution_count": 10,
   "metadata": {},
   "outputs": [],
   "source": [
    "class Net(nn.Module):\n",
    "    def __init__(self):\n",
    "        super(Net, self).__init__()\n",
    "        # Define CNN layers\n",
    "        self.conv1 = nn.Conv2d(3,32,kernel_size=3, padding=1)\n",
    "        self.conv2 = nn.Conv2d(32,64,kernel_size=3, padding=1)\n",
    "        self.conv3 = nn.Conv2d(64, 128,kernel_size=3,  padding=1)\n",
    "        self.conv4 = nn.Conv2d(128, 256, kernel_size=3, padding=1)\n",
    "\n",
    "        self.pool = nn.MaxPool2d(2,2)\n",
    "\n",
    "        # Fully connected layers\n",
    "        self.fc1 = nn.Linear(256 * 2 * 2, 256)\n",
    "        self.fc2 = nn.Linear(256, 10)  \n",
    "        \n",
    "        self.dropout1 = nn.Dropout(0.5)  \n",
    "\n",
    "    def forward(self, x):\n",
    "        x = self.pool(F.relu(self.conv1(x))) #  feature map + ReLU + Maxpool\n",
    "        x = self.pool(F.relu(self.conv2(x)))\n",
    "        x = self.pool(F.relu(self.conv3(x)))\n",
    "        x = self.pool(F.relu(self.conv4(x)))\n",
    "\n",
    "        x = x.view(-1, 256 * 2 *2) \n",
    "\n",
    "        x = F.relu(self.fc1(x))\n",
    "        x = self.dropout1(x)  \n",
    "\n",
    "        x = self.fc2(x) \n",
    "        return x\n",
    "    \n",
    "net = Net()"
   ]
  },
  {
   "cell_type": "code",
   "execution_count": 11,
   "metadata": {},
   "outputs": [],
   "source": [
    "criterion = nn.CrossEntropyLoss() \n",
    "\n",
    "# optimizer = optim.SGD(net.parameters(), lr=0.001, momentum=0.9) \n",
    "optimizer = optim.Adam(net.parameters(),lr=0.001)\n",
    "\n",
    "net = net.to(device)\n",
    "criterion = criterion.to(device)\n"
   ]
  },
  {
   "cell_type": "code",
   "execution_count": null,
   "metadata": {},
   "outputs": [
    {
     "name": "stdout",
     "output_type": "stream",
     "text": [
      "Epoch [1/30], Loss: 1.6831\n",
      "Epoch [2/30], Loss: 1.3086\n",
      "Epoch [3/30], Loss: 1.1362\n",
      "Epoch [4/30], Loss: 1.0333\n",
      "Epoch [5/30], Loss: 0.9603\n",
      "Epoch [6/30], Loss: 0.9116\n",
      "Epoch [7/30], Loss: 0.8732\n",
      "Epoch [8/30], Loss: 0.8418\n",
      "Epoch [9/30], Loss: 0.8173\n",
      "Epoch [10/30], Loss: 0.7897\n",
      "Epoch [11/30], Loss: 0.7728\n",
      "Epoch [12/30], Loss: 0.7536\n",
      "Epoch [13/30], Loss: 0.7400\n",
      "Epoch [14/30], Loss: 0.7332\n",
      "Epoch [15/30], Loss: 0.7211\n",
      "Epoch [16/30], Loss: 0.7089\n",
      "Epoch [17/30], Loss: 0.7099\n",
      "Epoch [18/30], Loss: 0.7004\n",
      "Epoch [19/30], Loss: 0.6817\n",
      "Epoch [20/30], Loss: 0.6777\n",
      "Epoch [21/30], Loss: 0.6769\n",
      "Epoch [22/30], Loss: 0.6716\n",
      "Epoch [23/30], Loss: 0.6637\n",
      "Epoch [24/30], Loss: 0.6533\n",
      "Epoch [25/30], Loss: 0.6530\n",
      "Epoch [26/30], Loss: 0.6593\n",
      "Epoch [27/30], Loss: 0.6477\n",
      "Epoch [28/30], Loss: 0.6439\n",
      "Epoch [29/30], Loss: 0.6403\n",
      "Epoch [30/30], Loss: 0.6364\n",
      "Epoch [31/30], Loss: 0.6351\n",
      "Epoch [32/30], Loss: 0.6342\n",
      "Epoch [33/30], Loss: 0.6231\n",
      "Epoch [34/30], Loss: 0.6240\n",
      "Epoch [35/30], Loss: 0.6232\n",
      "Epoch [36/30], Loss: 0.6231\n",
      "Epoch [37/30], Loss: 0.6147\n",
      "Epoch [38/30], Loss: 0.6176\n",
      "Epoch [39/30], Loss: 0.6111\n",
      "Epoch [40/30], Loss: 0.6143\n",
      "Epoch [41/30], Loss: 0.6124\n",
      "Epoch [42/30], Loss: 0.6099\n",
      "Epoch [43/30], Loss: 0.6073\n",
      "Epoch [44/30], Loss: 0.6081\n",
      "Epoch [45/30], Loss: 0.6077\n",
      "Epoch [46/30], Loss: 0.6059\n",
      "Epoch [47/30], Loss: 0.6026\n",
      "Epoch [48/30], Loss: 0.5976\n",
      "Epoch [49/30], Loss: 0.5969\n",
      "Epoch [50/30], Loss: 0.5982\n",
      "Finished Training\n"
     ]
    }
   ],
   "source": [
    "for epoch in range(50): \n",
    "    running_loss = 0.0\n",
    "    for i, data in enumerate(trainloader, 0):\n",
    "        inputs, labels = data\n",
    "        inputs, labels = inputs.to(device), labels.to(device)\n",
    "\n",
    "        optimizer.zero_grad()\n",
    "        \n",
    "        outputs = net(inputs)\n",
    "        \n",
    "        loss = criterion(outputs, labels)\n",
    "        \n",
    "        loss.backward()\n",
    "        optimizer.step()\n",
    "        \n",
    "        running_loss += loss.item()\n",
    "\n",
    "\n",
    "    epoch_loss = running_loss / len(trainloader)  # Average loss per epoch\n",
    "    print(f'Epoch [{epoch + 1}/50], Loss: {epoch_loss:.4f}')\n",
    "print('Finished Training')\n",
    "\n",
    "torch.save(net.state_dict(), 'cifar_net.pth')"
   ]
  },
  {
   "cell_type": "code",
   "execution_count": 13,
   "metadata": {},
   "outputs": [
    {
     "name": "stdout",
     "output_type": "stream",
     "text": [
      "Training Accuracy: 81.84%\n"
     ]
    }
   ],
   "source": [
    "correct = 0\n",
    "total = 0\n",
    "\n",
    "net.eval()\n",
    "\n",
    "with torch.no_grad(): \n",
    "    for images, labels in trainloader:\n",
    "        images, labels = images.to(device), labels.to(device)\n",
    "        outputs = net(images)\n",
    "        _, predicted = torch.max(outputs, 1)\n",
    "        total += labels.size(0)\n",
    "        correct += (predicted == labels).sum().item()\n",
    "\n",
    "print(f\"Training Accuracy: {100 * correct / total:.2f}%\")"
   ]
  },
  {
   "cell_type": "code",
   "execution_count": 14,
   "metadata": {},
   "outputs": [
    {
     "name": "stderr",
     "output_type": "stream",
     "text": [
      "C:\\Users\\sayed\\AppData\\Local\\Temp\\ipykernel_8040\\3630241977.py:1: FutureWarning: You are using `torch.load` with `weights_only=False` (the current default value), which uses the default pickle module implicitly. It is possible to construct malicious pickle data which will execute arbitrary code during unpickling (See https://github.com/pytorch/pytorch/blob/main/SECURITY.md#untrusted-models for more details). In a future release, the default value for `weights_only` will be flipped to `True`. This limits the functions that could be executed during unpickling. Arbitrary objects will no longer be allowed to be loaded via this mode unless they are explicitly allowlisted by the user via `torch.serialization.add_safe_globals`. We recommend you start setting `weights_only=True` for any use case where you don't have full control of the loaded file. Please open an issue on GitHub for any issues related to this experimental feature.\n",
      "  net.load_state_dict(torch.load('cifar_net.pth'))\n"
     ]
    },
    {
     "name": "stdout",
     "output_type": "stream",
     "text": [
      "Accuracy: 80.95%\n"
     ]
    }
   ],
   "source": [
    "net.load_state_dict(torch.load('cifar_net.pth'))\n",
    "\n",
    "correct = 0\n",
    "total = 0\n",
    "with torch.no_grad(): \n",
    "    for data in testloader:\n",
    "        images, labels = data\n",
    "        images, labels = images.to(device), labels.to(device)\n",
    "        outputs = net(images)\n",
    "        _, predicted = torch.max(outputs, 1) \n",
    "        total += labels.size(0)\n",
    "        correct += (predicted == labels).sum().item()\n",
    "\n",
    "print(f'Accuracy: {100 * correct / total:.2f}%')\n",
    "  "
   ]
  },
  {
   "cell_type": "code",
   "execution_count": 15,
   "metadata": {},
   "outputs": [
    {
     "name": "stdout",
     "output_type": "stream",
     "text": [
      "Accuracy for class cat: 52.90%\n",
      "Accuracy for class bird: 72.90%\n",
      "Accuracy for class dog: 73.60%\n",
      "Accuracy for class plane: 81.70%\n",
      "Accuracy for class deer: 84.10%\n",
      "Accuracy for class frog: 86.10%\n",
      "Accuracy for class horse: 88.20%\n",
      "Accuracy for class truck: 89.80%\n",
      "Accuracy for class car: 89.90%\n",
      "Accuracy for class ship: 90.30%\n",
      "Overall Accuracy: 80.95%\n"
     ]
    }
   ],
   "source": [
    "classes = ('plane', 'car', 'bird', 'cat', 'deer', 'dog', 'frog', 'horse', 'ship', 'truck')\n",
    "\n",
    "correct = [0] * 10  \n",
    "total = [0] * 10\n",
    "total_correct = 0\n",
    "total_samples = 0\n",
    "\n",
    "net.eval()\n",
    "\n",
    "with torch.no_grad():\n",
    "    for data in testloader:\n",
    "        images, labels = data\n",
    "        images, labels = images.to(device), labels.to(device)\n",
    "\n",
    "        outputs = net(images)\n",
    "        _, predicted = torch.max(outputs, 1)\n",
    "\n",
    "        # Update correct and total counts for each class\n",
    "        for i in range(len(labels)):\n",
    "            label = labels[i].item()\n",
    "            total[label] += 1\n",
    "            total_samples += 1\n",
    "            if predicted[i] == label:\n",
    "                correct[label] += 1\n",
    "                total_correct += 1\n",
    "\n",
    "# Calculate the accuracy for each class\n",
    "class_accuracies = []\n",
    "for i in range(10):\n",
    "    accuracy = (correct[i] / total[i]) * 100\n",
    "    class_accuracies.append((classes[i], accuracy))\n",
    "\n",
    "class_accuracies.sort(key=lambda x: x[1])\n",
    "\n",
    "for class_name, accuracy in class_accuracies:\n",
    "    print(f\"Accuracy for class {class_name}: {accuracy:.2f}%\")\n",
    "\n",
    "overall_accuracy = (total_correct / total_samples) * 100\n",
    "print(f\"Overall Accuracy: {overall_accuracy:.2f}%\")\n"
   ]
  },
  {
   "cell_type": "code",
   "execution_count": null,
   "metadata": {},
   "outputs": [],
   "source": []
  }
 ],
 "metadata": {
  "kernelspec": {
   "display_name": "Python 3",
   "language": "python",
   "name": "python3"
  },
  "language_info": {
   "codemirror_mode": {
    "name": "ipython",
    "version": 3
   },
   "file_extension": ".py",
   "mimetype": "text/x-python",
   "name": "python",
   "nbconvert_exporter": "python",
   "pygments_lexer": "ipython3",
   "version": "3.11.6"
  }
 },
 "nbformat": 4,
 "nbformat_minor": 2
}
